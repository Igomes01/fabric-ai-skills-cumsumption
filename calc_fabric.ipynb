{
 "cells": [
  {
   "cell_type": "code",
   "execution_count": null,
   "id": "db8fc37d",
   "metadata": {},
   "outputs": [],
   "source": [
    "input_question_palavras = 50\n",
    "users_per_day = 1500\n",
    "questions_per_user = 5"
   ]
  },
  {
   "cell_type": "code",
   "execution_count": null,
   "id": "83551f74",
   "metadata": {},
   "outputs": [],
   "source": [
    "input_question_tokens = input_question_palavras*1000/750\n",
    "output_question_tokens = input_question_tokens * 4\n",
    "cu_seconds = (input_question_tokens *100 + output_question_tokens*400)/1000\n",
    "cu_minute = cu_seconds/60\n",
    "cu_hours = cu_minute/60\n",
    "requests_day = users_per_day * questions_per_user\n",
    "capacity_need = requests_day*cu_hours/24"
   ]
  },
  {
   "cell_type": "code",
   "execution_count": null,
   "id": "041cb66f",
   "metadata": {},
   "outputs": [],
   "source": [
    "capacity_need"
   ]
  }
 ],
 "metadata": {
  "language_info": {
   "name": "python"
  }
 },
 "nbformat": 4,
 "nbformat_minor": 5
}
