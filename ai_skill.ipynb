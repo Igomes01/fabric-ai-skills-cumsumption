{
 "cells": [
  {
   "cell_type": "code",
   "execution_count": null,
   "id": "36dfbaaf",
   "metadata": {},
   "outputs": [
    {
     "name": "stdout",
     "output_type": "stream",
     "text": [
      "{'texto': 'Quais foram os 5 produtos mais vendidos no último trimestre?', 'quantidade_palavras': 10, 'quantidade_tokens': 13}\n"
     ]
    }
   ],
   "source": [
    "# Instalar a lib antes (se necessário):\n",
    "# pip install tiktoken\n",
    "\n",
    "import tiktoken\n",
    "\n",
    "def analisar_texto(texto: str, modelo: str = \"gpt-3.5-turbo\"):\n",
    "    # Conta palavras separando por espaços\n",
    "    qtd_palavras = len(texto.split())\n",
    "\n",
    "    # Conta tokens usando tiktoken\n",
    "    encoding = tiktoken.encoding_for_model(modelo)\n",
    "    tokens = encoding.encode(texto)\n",
    "    qtd_tokens = len(tokens)\n",
    "\n",
    "    return {\n",
    "        \"texto\": texto,\n",
    "        \"quantidade_palavras\": qtd_palavras,\n",
    "        \"quantidade_tokens\": qtd_tokens\n",
    "    }\n",
    "\n",
    "# Exemplo de uso\n",
    "if __name__ == \"__main__\":\n",
    "    exemplo = \"Quais foram os 5 produtos mais vendidos no último trimestre?\"\n",
    "    resultado = analisar_texto(exemplo, modelo=\"gpt-4o-mini\")\n",
    "    print(resultado)\n"
   ]
  },
  {
   "cell_type": "code",
   "execution_count": 15,
   "id": "f482863a",
   "metadata": {},
   "outputs": [],
   "source": [
    "exemplo = \"Olá, como você está hoje? Espero que esteja bem!\"\n",
    "resultado = analisar_texto(exemplo, modelo=\"gpt-4\")"
   ]
  },
  {
   "cell_type": "code",
   "execution_count": 16,
   "id": "69cf05ef",
   "metadata": {},
   "outputs": [
    {
     "name": "stdout",
     "output_type": "stream",
     "text": [
      "{'texto': 'Olá, como você está hoje? Espero que esteja bem!', 'quantidade_palavras': 9, 'quantidade_tokens': 15}\n"
     ]
    }
   ],
   "source": [
    "print(resultado)"
   ]
  },
  {
   "cell_type": "code",
   "execution_count": 20,
   "id": "d9bf2c9a",
   "metadata": {},
   "outputs": [],
   "source": [
    "users_per_day = 1500\n",
    "questions_per_user = 5"
   ]
  },
  {
   "cell_type": "code",
   "execution_count": null,
   "id": "99e57493",
   "metadata": {},
   "outputs": [],
   "source": [
    "input_question_tokens = resultado[\"quantidade_tokens\"]"
   ]
  },
  {
   "cell_type": "code",
   "execution_count": 30,
   "id": "4f741e6a",
   "metadata": {},
   "outputs": [],
   "source": [
    "output_question_tokens = input_question_tokens * 4\n",
    "cu_seconds = (input_question_tokens *100 + output_question_tokens*400)/1000\n",
    "cu_minute = cu_seconds/60\n",
    "cu_hours = cu_minute/60\n",
    "requests_day = users_per_day * questions_per_user\n",
    "capacity_need = requests_day*cu_hours/24"
   ]
  },
  {
   "cell_type": "code",
   "execution_count": 31,
   "id": "a8545671",
   "metadata": {},
   "outputs": [
    {
     "data": {
      "text/plain": [
       "7.96875"
      ]
     },
     "execution_count": 31,
     "metadata": {},
     "output_type": "execute_result"
    }
   ],
   "source": [
    "capacity_need"
   ]
  }
 ],
 "metadata": {
  "kernelspec": {
   "display_name": ".venv",
   "language": "python",
   "name": "python3"
  },
  "language_info": {
   "codemirror_mode": {
    "name": "ipython",
    "version": 3
   },
   "file_extension": ".py",
   "mimetype": "text/x-python",
   "name": "python",
   "nbconvert_exporter": "python",
   "pygments_lexer": "ipython3",
   "version": "3.11.9"
  }
 },
 "nbformat": 4,
 "nbformat_minor": 5
}
